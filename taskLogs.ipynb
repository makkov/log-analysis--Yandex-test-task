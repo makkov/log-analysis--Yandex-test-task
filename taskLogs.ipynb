{
 "cells": [
  {
   "cell_type": "markdown",
   "metadata": {
    "collapsed": true
   },
   "source": [
    "Перед запуском файл  \"Log\" нужно переименовать в \"Log.csv\"!"
   ]
  },
  {
   "cell_type": "markdown",
   "metadata": {},
   "source": [
    "импортируем модули"
   ]
  },
  {
   "cell_type": "code",
   "execution_count": 1,
   "metadata": {
    "collapsed": true
   },
   "outputs": [],
   "source": [
    "# -*- coding: utf-8 -*-\n",
    "import pandas as pd\n",
    "import numpy as np"
   ]
  },
  {
   "cell_type": "markdown",
   "metadata": {},
   "source": [
    "откроем логи"
   ]
  },
  {
   "cell_type": "code",
   "execution_count": 2,
   "metadata": {
    "collapsed": true
   },
   "outputs": [],
   "source": [
    "data = pd.read_csv('Log.csv', sep='\\t', encoding='utf-8')"
   ]
  },
  {
   "cell_type": "markdown",
   "metadata": {},
   "source": [
    "посмотрим на данные"
   ]
  },
  {
   "cell_type": "code",
   "execution_count": 3,
   "metadata": {},
   "outputs": [
    {
     "data": {
      "text/html": [
       "<div>\n",
       "<style>\n",
       "    .dataframe thead tr:only-child th {\n",
       "        text-align: right;\n",
       "    }\n",
       "\n",
       "    .dataframe thead th {\n",
       "        text-align: left;\n",
       "    }\n",
       "\n",
       "    .dataframe tbody tr th {\n",
       "        vertical-align: top;\n",
       "    }\n",
       "</style>\n",
       "<table border=\"1\" class=\"dataframe\">\n",
       "  <thead>\n",
       "    <tr style=\"text-align: right;\">\n",
       "      <th></th>\n",
       "      <th>timestamp</th>\n",
       "      <th>datetime</th>\n",
       "      <th>device</th>\n",
       "      <th>numdoc</th>\n",
       "      <th>region</th>\n",
       "      <th>request</th>\n",
       "      <th>urls</th>\n",
       "    </tr>\n",
       "  </thead>\n",
       "  <tbody>\n",
       "    <tr>\n",
       "      <th>0</th>\n",
       "      <td>1520974800</td>\n",
       "      <td>2018-03-14 00:00</td>\n",
       "      <td>desktop</td>\n",
       "      <td>317731505</td>\n",
       "      <td>6</td>\n",
       "      <td>https://yandex.ru/search/?text=порно видео сек...</td>\n",
       "      <td>http://porno-sex-video.com/eroticheskie-filmy-...</td>\n",
       "    </tr>\n",
       "    <tr>\n",
       "      <th>1</th>\n",
       "      <td>1520974800</td>\n",
       "      <td>2018-03-14 00:00</td>\n",
       "      <td>desktop</td>\n",
       "      <td>277053268</td>\n",
       "      <td>191</td>\n",
       "      <td>https://yandex.ru/search/?text=sad story скача...</td>\n",
       "      <td>http://mp3party.net/music/8507899;http://muz-c...</td>\n",
       "    </tr>\n",
       "    <tr>\n",
       "      <th>2</th>\n",
       "      <td>1520974800</td>\n",
       "      <td>2018-03-14 00:00</td>\n",
       "      <td>touch</td>\n",
       "      <td>19987730</td>\n",
       "      <td>2</td>\n",
       "      <td>https://yandex.ru/search/?text=ольгино баня&amp;fl...</td>\n",
       "      <td>http://www.bani.spb.ru/olgino.html;https://sau...</td>\n",
       "    </tr>\n",
       "    <tr>\n",
       "      <th>3</th>\n",
       "      <td>1520974800</td>\n",
       "      <td>2018-03-14 00:00</td>\n",
       "      <td>touch</td>\n",
       "      <td>196215754</td>\n",
       "      <td>26955</td>\n",
       "      <td>https://yandex.ru/search/?text=фирменный магаз...</td>\n",
       "      <td>http://www.marko.by/actions/;https://marko.vit...</td>\n",
       "    </tr>\n",
       "    <tr>\n",
       "      <th>4</th>\n",
       "      <td>1520974800</td>\n",
       "      <td>2018-03-14 00:00</td>\n",
       "      <td>desktop</td>\n",
       "      <td>3909882795</td>\n",
       "      <td>101704</td>\n",
       "      <td>https://yandex.ru/search/?text=порно&amp;rl=313</td>\n",
       "      <td>http://porno365.xxx/;https://prostoporno.sex/c...</td>\n",
       "    </tr>\n",
       "  </tbody>\n",
       "</table>\n",
       "</div>"
      ],
      "text/plain": [
       "    timestamp          datetime   device      numdoc  region  \\\n",
       "0  1520974800  2018-03-14 00:00  desktop   317731505       6   \n",
       "1  1520974800  2018-03-14 00:00  desktop   277053268     191   \n",
       "2  1520974800  2018-03-14 00:00    touch    19987730       2   \n",
       "3  1520974800  2018-03-14 00:00    touch   196215754   26955   \n",
       "4  1520974800  2018-03-14 00:00  desktop  3909882795  101704   \n",
       "\n",
       "                                             request  \\\n",
       "0  https://yandex.ru/search/?text=порно видео сек...   \n",
       "1  https://yandex.ru/search/?text=sad story скача...   \n",
       "2  https://yandex.ru/search/?text=ольгино баня&fl...   \n",
       "3  https://yandex.ru/search/?text=фирменный магаз...   \n",
       "4        https://yandex.ru/search/?text=порно&rl=313   \n",
       "\n",
       "                                                urls  \n",
       "0  http://porno-sex-video.com/eroticheskie-filmy-...  \n",
       "1  http://mp3party.net/music/8507899;http://muz-c...  \n",
       "2  http://www.bani.spb.ru/olgino.html;https://sau...  \n",
       "3  http://www.marko.by/actions/;https://marko.vit...  \n",
       "4  http://porno365.xxx/;https://prostoporno.sex/c...  "
      ]
     },
     "execution_count": 3,
     "metadata": {},
     "output_type": "execute_result"
    }
   ],
   "source": [
    "data.head()"
   ]
  },
  {
   "cell_type": "markdown",
   "metadata": {},
   "source": [
    "посмотрим количество запросов в файле"
   ]
  },
  {
   "cell_type": "code",
   "execution_count": 4,
   "metadata": {},
   "outputs": [
    {
     "data": {
      "text/plain": [
       "1333503"
      ]
     },
     "execution_count": 4,
     "metadata": {},
     "output_type": "execute_result"
    }
   ],
   "source": [
    "len(data)"
   ]
  },
  {
   "cell_type": "markdown",
   "metadata": {},
   "source": [
    "выделим текстовую часть запросов"
   ]
  },
  {
   "cell_type": "code",
   "execution_count": 5,
   "metadata": {
    "collapsed": true
   },
   "outputs": [],
   "source": [
    "request = data['request']\n",
    "requestList=[]\n",
    "for i in range(len(request)):\n",
    "    requestList.append(request[i].replace('https://yandex.ru/search/?text=', '').split('&')[0])"
   ]
  },
  {
   "cell_type": "markdown",
   "metadata": {},
   "source": [
    "для удобства запишем в файл"
   ]
  },
  {
   "cell_type": "code",
   "execution_count": 6,
   "metadata": {
    "collapsed": true
   },
   "outputs": [],
   "source": [
    "f = open('1.txt', 'w')\n",
    "for i in range(len(requestList)):    \n",
    "    f.write(requestList[i].encode('utf8')+'\\n')\n",
    "f.close()"
   ]
  },
  {
   "cell_type": "code",
   "execution_count": 8,
   "metadata": {
    "collapsed": true
   },
   "outputs": [],
   "source": [
    "#подготовим данные к работе\n",
    "dat = open('1.txt')\n",
    "data = dat.readlines()\n",
    "a, b= [], []\n",
    "#создадим список запросов\n",
    "for i in range(len(data)):\n",
    "    a.append(data[i].strip().lower())\n",
    "    \n",
    "#создадим список списков запросов\n",
    "import re\n",
    "for j in range(len(a)):\n",
    "    b.append(re.split(' ', a[j]))"
   ]
  },
  {
   "cell_type": "markdown",
   "metadata": {},
   "source": [
    "Так как объем данных очень большой, не получится проанализировать все строки. Отфильтруем логи, в которых отсутсвуют ключевые слова, связанные с телевидением.  Поиск таких слов был осуществлен с помощью сервиса по подбору слов Яндекса. были введены запросы \"телевидение\" и \"тв\"."
   ]
  },
  {
   "cell_type": "markdown",
   "metadata": {},
   "source": [
    "создание списка ключевых слов для фильтрации"
   ]
  },
  {
   "cell_type": "code",
   "execution_count": 9,
   "metadata": {
    "collapsed": true
   },
   "outputs": [],
   "source": [
    "#filtrWords = '1канал антенна кабельное кабельный tv канал матч муз первый передач передача передачи подключить приставка программа прямая прямое прямом прямой рен ресивер россия1 ростелеком спутниковое спутниковый тв телевидение телевидения телевизионный телевизор телеканал триколор цифровое цифровой эфир эфирный нтв тв-3'\n",
    "filtrWords = '1канал антенна кабельное кабельный tv канал матч муз первый передач передача передачи подключить приставка программа прямая прямое прямом прямой рен ресивер россия1 ростелеком спутниковое спутниковый тв телевидение телевидения телевизионный телевизор телеканал триколор цифровое цифровой эфир эфирный нтв тв-3'\n",
    "filtr = []\n",
    "filtr.append(re.split(' ', filtrWords))"
   ]
  },
  {
   "cell_type": "markdown",
   "metadata": {},
   "source": [
    "создадим множество из слов-фильтров"
   ]
  },
  {
   "cell_type": "code",
   "execution_count": 10,
   "metadata": {
    "collapsed": true
   },
   "outputs": [],
   "source": [
    "words = set()\n",
    "for i in range(len(filtr)):\n",
    "    for j in range(len(filtr[i])):\n",
    "        words.add(filtr[i][j])"
   ]
  },
  {
   "cell_type": "markdown",
   "metadata": {},
   "source": [
    "добавляем подходящие запросы в новый список"
   ]
  },
  {
   "cell_type": "code",
   "execution_count": 11,
   "metadata": {},
   "outputs": [
    {
     "name": "stdout",
     "output_type": "stream",
     "text": [
      "Wall time: 1.47 s\n"
     ]
    }
   ],
   "source": [
    "%%time \n",
    "newList=[]\n",
    "for i in range(len(b)):\n",
    "    for j in range(len(b[i])):\n",
    "        if b[i][j] in words:\n",
    "            newList.append(a[i])"
   ]
  },
  {
   "cell_type": "markdown",
   "metadata": {},
   "source": [
    "оценим количество подходящих запросов"
   ]
  },
  {
   "cell_type": "code",
   "execution_count": 12,
   "metadata": {},
   "outputs": [
    {
     "data": {
      "text/plain": [
       "18842"
      ]
     },
     "execution_count": 12,
     "metadata": {},
     "output_type": "execute_result"
    }
   ],
   "source": [
    "len(newList)"
   ]
  },
  {
   "cell_type": "markdown",
   "metadata": {},
   "source": [
    "оцением их долю в общем потоке"
   ]
  },
  {
   "cell_type": "code",
   "execution_count": 13,
   "metadata": {},
   "outputs": [
    {
     "data": {
      "text/plain": [
       "0.014129701995421082"
      ]
     },
     "execution_count": 13,
     "metadata": {},
     "output_type": "execute_result"
    }
   ],
   "source": [
    "len(newList)/float(len(data))"
   ]
  },
  {
   "cell_type": "markdown",
   "metadata": {},
   "source": [
    "запишем подходящие запросы в файл"
   ]
  },
  {
   "cell_type": "code",
   "execution_count": 14,
   "metadata": {
    "collapsed": true
   },
   "outputs": [],
   "source": [
    "f = open('2.txt', 'w') \n",
    "for i in range(len(newList)):    \n",
    "    f.write(newList[i]+'\\n')\n",
    "f.close()"
   ]
  },
  {
   "cell_type": "markdown",
   "metadata": {},
   "source": [
    "Я бы разделил запросы на следующие группы:<p>\n",
    "1) запрос на просмотр телевизора онлайн (аналог кнопки \"ВКЛ\" на пульте) - simpLookWords<p>\n",
    "2) запрос на просмотр конкретного канала или программы телепередач(человек знает, что хочет смотреть) - lookChanWords<p>\n",
    "3) запрос на тв-оборудование или провайдера (человек нуждается в услуге или товаре) - supportWords"
   ]
  },
  {
   "cell_type": "code",
   "execution_count": 15,
   "metadata": {
    "collapsed": true
   },
   "outputs": [],
   "source": [
    "simpLookWords = 'tv прямая прямое прямом прямой эфир'\n",
    "lookChanWords = '1канал канал матч муз первый передач передача передачи рен россия1 телеканал триколор нтв тв-3'\n",
    "supportWords = 'антенна кабельное кабельный подключить приставка программа ресивер ростелеком спутниковое спутниковый телевидение телевидения телевизионный телевизор цифровое цифровой эфирный'\n",
    "#создадим списки\n",
    "simpLook, lookChan, support = [], [], []\n",
    "simpLook.append(re.split(' ', simpLookWords))\n",
    "lookChan.append(re.split(' ', lookChanWords))\n",
    "support.append(re.split(' ', supportWords))"
   ]
  },
  {
   "cell_type": "code",
   "execution_count": 16,
   "metadata": {
    "collapsed": true
   },
   "outputs": [],
   "source": [
    "#создадим множества\n",
    "simpLookWords = set()\n",
    "for i in range(len(simpLook)):\n",
    "    for j in range(len(simpLook[i])):\n",
    "        simpLookWords.add(simpLook[i][j])\n",
    "lookChanWords = set()\n",
    "for i in range(len(lookChan)):\n",
    "    for j in range(len(lookChan[i])):\n",
    "        lookChanWords.add(lookChan[i][j])\n",
    "supportWords = set()\n",
    "for i in range(len(support)):\n",
    "    for j in range(len(support[i])):\n",
    "        supportWords.add(support[i][j])"
   ]
  },
  {
   "cell_type": "code",
   "execution_count": 17,
   "metadata": {
    "collapsed": true
   },
   "outputs": [],
   "source": [
    "#готовим данные к работе\n",
    "dat2 = open('2.txt')\n",
    "data2 = dat2.readlines()\n",
    "a2, b2= [], []\n",
    "#создадим список запросов\n",
    "for i in range(len(data2)):\n",
    "    a2.append(data2[i].strip().lower())\n",
    "    \n",
    "#создадим список списков запросов\n",
    "import re\n",
    "for j in range(len(a2)):\n",
    "    b2.append(re.split(' ', a2[j]))"
   ]
  },
  {
   "cell_type": "code",
   "execution_count": 18,
   "metadata": {
    "collapsed": true
   },
   "outputs": [],
   "source": [
    "#посчитаем вхождения\n",
    "l_1 = 0\n",
    "l_2 = 0\n",
    "l_3 = 0\n",
    "for i in range(len(b2)):\n",
    "    for j in range(len(b2[i])):\n",
    "        if b2[i][j] in simpLookWords:\n",
    "            l_1 += 1\n",
    "    for j in range(len(b2[i])):\n",
    "        if b2[i][j] in lookChanWords:\n",
    "            l_2 += 1\n",
    "    for j in range(len(b2[i])):\n",
    "        if b2[i][j] in supportWords:\n",
    "            l_3 += 1"
   ]
  },
  {
   "cell_type": "markdown",
   "metadata": {},
   "source": [
    "Получаем количество вхождений. Это не очень точный результат, так как в одном запросе могут быть ключевые слова из разных групп. Ключевые слова распределял по группам экспериментально."
   ]
  },
  {
   "cell_type": "code",
   "execution_count": 19,
   "metadata": {},
   "outputs": [
    {
     "name": "stdout",
     "output_type": "stream",
     "text": [
      "(11351, 10889, 6201)\n"
     ]
    }
   ],
   "source": [
    "print(l_1, l_2, l_3)"
   ]
  },
  {
   "cell_type": "markdown",
   "metadata": {},
   "source": [
    "Соотношение групп запросов: 1 : 0.959 : 0.546"
   ]
  },
  {
   "cell_type": "markdown",
   "metadata": {},
   "source": [
    "Более точные результаты можно получить, анализируя косинусные расстояния между векторами вхождения слов в запрос. <p> Так как размер исходной матрицы очень большой, мощностей машины не хватает для их обработки (в один вектор обрабатывается больше 5 минут, с учетом их количества 1.3 млн дальнейший расчет нецелесообразен)."
   ]
  },
  {
   "cell_type": "markdown",
   "metadata": {},
   "source": [
    "Вот как можно применить метод косинусных расстояний."
   ]
  },
  {
   "cell_type": "code",
   "execution_count": 20,
   "metadata": {
    "collapsed": true
   },
   "outputs": [],
   "source": [
    "#Функция для создания словаря - мешка слов\n",
    "def createBagWords(listAllwords):\n",
    "    #создаем множество всех слов\n",
    "    words = set()\n",
    "    for i in range(len(listAllwords)):\n",
    "        for j in range(len(listAllwords[i])):\n",
    "            words.add(listAllwords[i][j])\n",
    "    #создаем словарь, где ключ - порядковый номер, значение - слово из мешка\n",
    "    keys = [i for i in range(len(words))]\n",
    "    words = dict(zip(words, keys))\n",
    "    return words\n",
    "\n",
    "#функция на вход получает запрос, на выходе получаем вектор количества вхождений слов из мешка в наш запрос\n",
    "def createVector(request):\n",
    "    vector = np.zeros(len(words))\n",
    "    for i in range(len(words)):\n",
    "        if words.keys()[i] in request:\n",
    "            vector[i]+=1\n",
    "    return vector"
   ]
  },
  {
   "cell_type": "markdown",
   "metadata": {},
   "source": [
    "Попробуем проанализировать таким методом уже отобранные логи (newList)."
   ]
  },
  {
   "cell_type": "code",
   "execution_count": 21,
   "metadata": {
    "collapsed": true
   },
   "outputs": [],
   "source": [
    "words = createBagWords(newList)"
   ]
  },
  {
   "cell_type": "markdown",
   "metadata": {},
   "source": [
    "сфомируем матрицы из векторов вхождений"
   ]
  },
  {
   "cell_type": "code",
   "execution_count": 22,
   "metadata": {},
   "outputs": [
    {
     "name": "stdout",
     "output_type": "stream",
     "text": [
      "Wall time: 3.66 s\n"
     ]
    }
   ],
   "source": [
    "%%time\n",
    "matrix = np.zeros((len(newList), len(words)))\n",
    "\n",
    "for i in range(len(newList)):\n",
    "    for j in range(len(words)):\n",
    "        if words.keys()[j] in newList[i]:\n",
    "            matrix[i][j] += 1"
   ]
  },
  {
   "cell_type": "markdown",
   "metadata": {},
   "source": [
    "создадим вектор, с которым будем сравнивать вектора"
   ]
  },
  {
   "cell_type": "code",
   "execution_count": 23,
   "metadata": {
    "collapsed": true
   },
   "outputs": [],
   "source": [
    "normal = []\n",
    "for i in range(len(filtrWords)):\n",
    "    normal.append(filtrWords[i].strip().lower())\n",
    "normal = createVector(normal)"
   ]
  },
  {
   "cell_type": "code",
   "execution_count": 24,
   "metadata": {
    "collapsed": true
   },
   "outputs": [],
   "source": [
    "from scipy.spatial.distance import cosine"
   ]
  },
  {
   "cell_type": "markdown",
   "metadata": {},
   "source": [
    "Рассмотрим несколько пар кос. расстояние - поисковый запрос."
   ]
  },
  {
   "cell_type": "code",
   "execution_count": 25,
   "metadata": {
    "scrolled": true
   },
   "outputs": [
    {
     "name": "stdout",
     "output_type": "stream",
     "text": [
      "0.213281606163 смотреть онлайн матч футбол 1 прямая трансляция\n",
      "0.213281606163 смотреть онлайн матч футбол 1 прямая трансляция\n",
      "0.326366930291 рома шахтер прямая трансляция смотреть 13 марта\n",
      "0.32056138714 пакет ночной триколор тв на 2018 год цена\n",
      "0.32056138714 пакет ночной триколор тв на 2018 год цена\n",
      "0.455418851363 программа передач\n",
      "0.455418851363 программа передач\n",
      "0.271383260595 второй канал онлайн прямой эфир россия 1\n",
      "0.271383260595 второй канал онлайн прямой эфир россия 1\n",
      "0.271383260595 второй канал онлайн прямой эфир россия 1\n",
      "0.34807975948 матч футбол 1 iptv ссылка\n",
      "0.404145976932 россия 1 прямой эфир\n",
      "0.404145976932 россия 1 прямой эфир\n",
      "0.429218207015 познавательное тв\n",
      "0.911438511446 pro tv md gindeste liber\n",
      "0.429218207015 первый канал\n",
      "0.429218207015 первый канал\n",
      "0.251518811435 не включается задняя передача октавия тур\n",
      "0.534621079004 телеканал шалун\n",
      "0.399754952001 режим спутника на смарт тв\n",
      "0.511906469908 тв онлайн\n",
      "0.451204527544 kaban tv online смотреть бесплатно\n",
      "0.575562656186 матч тв\n",
      "0.575562656186 матч тв\n",
      "0.896582462001 adult tv online\n",
      "0.360960845704 сериал осколки 5 6 7 8 серия 2018 канал россия смотреть онлайн бесплатно\n",
      "0.428228125103 программа установщик windows 7 скачать\n",
      "0.404145976932 матч армения лиива\n",
      "0.334487735354 1 канал онлайн прямой эфир\n",
      "0.334487735354 1 канал онлайн прямой эфир\n",
      "0.334487735354 1 канал онлайн прямой эфир\n",
      "0.31400565943 прямой эфир с малаховым все выпуски 2018\n",
      "0.31400565943 прямой эфир с малаховым все выпуски 2018\n",
      "0.356880305716 матч тв прямой эфир\n",
      "0.356880305716 матч тв прямой эфир\n",
      "0.356880305716 матч тв прямой эфир\n",
      "0.356880305716 матч тв прямой эфир\n",
      "0.33114394594 коррекционная программа для младшиго школьника пример\n",
      "0.356880305716 матч тв прямой эфир\n",
      "0.356880305716 матч тв прямой эфир\n",
      "0.356880305716 матч тв прямой эфир\n",
      "0.356880305716 матч тв прямой эфир\n",
      "0.382605093487 как подключить радио микрофон к sony xa1\n",
      "0.207881965619 тв 1000 зарубежное кино смотреть онлайн прямой эфир мэйл\n",
      "0.207881965619 тв 1000 зарубежное кино смотреть онлайн прямой эфир мэйл\n",
      "0.207881965619 тв 1000 зарубежное кино смотреть онлайн прямой эфир мэйл\n",
      "0.380069580122 александр ф скляр рен тв\n",
      "0.380069580122 александр ф скляр рен тв\n",
      "0.334487735354 наркос сериал первый сезон\n",
      "0.87035925529 tv shop\n",
      "0.334487735354 россия 1 онлайн прямой эфир\n",
      "0.334487735354 россия 1 онлайн прямой эфир\n",
      "0.273891801817 я стесняюсь своего тела новый 5 сезон 2018 на русском языке канал ю\n",
      "0.291799472172 последний новости цимпалюка на нтв\n",
      "0.511906469908 тв онлайн\n",
      "0.326366930291 нтв ведущая экономических новостей\n",
      "0.279705942401 музыка из передачи пацанки 2 сезон когда шейх приехал\n",
      "0.393660937409 шахтер рома прямая трансляция\n",
      "0.36379098972 первый человек фильм 2018\n",
      "0.353238333236 канал домашний онлайн прямой эфир\n",
      "0.353238333236 канал домашний онлайн прямой эфир\n",
      "0.353238333236 канал домашний онлайн прямой эфир\n",
      "0.213281606163 русский детектив онлайн прямой эфир смотреть\n",
      "0.213281606163 русский детектив онлайн прямой эфир смотреть\n",
      "0.362251860782 как подключить yatour yt-m06 к магнитоле митсубиси xl 2007\n",
      "0.575562656186 матч тв\n",
      "0.575562656186 матч тв\n",
      "0.268727575873 война и мир первый том первая часть краткое содержание\n",
      "0.424350324399 рен-тв архив передач\n",
      "0.380069580122 программа телепередач мир\n",
      "0.312815729064 ваз тв программа передач на сегодня\n",
      "0.312815729064 ваз тв программа передач на сегодня\n",
      "0.312815729064 ваз тв программа передач на сегодня\n",
      "0.309731510037 глухов алексей валерьевич ростелеком\n",
      "0.213281606163 смотреть тв онлайн прямая трансляция прямо сейчас бесплатно все каналы\n",
      "0.213281606163 смотреть тв онлайн прямая трансляция прямо сейчас бесплатно все каналы\n",
      "0.512911812953 канал драма cbs онлайн\n",
      "0.575562656186 матч тв\n",
      "0.575562656186 матч тв\n",
      "0.334866960087 прямой эвир дебаты от 14,03,18\n",
      "0.31400565943 прямой репортаж футбол манчестер 13032018\n",
      "0.859971991597 blu tv\n",
      "0.245406225373 два автомобиля отправляются в 340 километровый пробег первый\n",
      "0.378418439492 Смотреть онлайн прямой эфир рома шахтёр\n",
      "0.378418439492 Смотреть онлайн прямой эфир рома шахтёр\n",
      "0.271383260595 программа для проверки аккумулятора на ноутбуке\n",
      "0.511906469908 тв онлайн\n",
      "0.356880305716 матч тв прямой эфир\n",
      "0.356880305716 матч тв прямой эфир\n",
      "0.356880305716 матч тв прямой эфир\n",
      "0.356880305716 матч тв прямой эфир\n",
      "0.356880305716 прямая тронслядцыя\n",
      "0.828501414857 a tv\n",
      "0.887727821715 star tv ufak tefek cinayetler son bölüm\n",
      "0.293693566304 канал 24 россия смотреть онлайн прямой эфир в хорошем качестве\n",
      "0.293693566304 канал 24 россия смотреть онлайн прямой эфир в хорошем качестве\n",
      "0.293693566304 канал 24 россия смотреть онлайн прямой эфир в хорошем качестве\n",
      "0.312815729064 смотреть онлайн первый мститет\n",
      "0.837302156636 evıl angel tv\n",
      "0.401215049148 дом 2 14 03 марта 2018 ночной эфир\n"
     ]
    }
   ],
   "source": [
    "for i in range(100):\n",
    "    print cosine(matrix[i], normal), newList[i]"
   ]
  },
  {
   "cell_type": "markdown",
   "metadata": {},
   "source": [
    "Как видно, величина кос. расстояния уже не может дать нам никакой информации.<p> Это связано с тем, что мы отбирали эти запросы по фильтру, который использовали в нормали.<p>\n",
    "Елси бы размер исходного файла был меньше, векторный анализ был бы успешен."
   ]
  },
  {
   "cell_type": "code",
   "execution_count": null,
   "metadata": {
    "collapsed": true
   },
   "outputs": [],
   "source": []
  }
 ],
 "metadata": {
  "kernelspec": {
   "display_name": "Python 2",
   "language": "python",
   "name": "python2"
  },
  "language_info": {
   "codemirror_mode": {
    "name": "ipython",
    "version": 2
   },
   "file_extension": ".py",
   "mimetype": "text/x-python",
   "name": "python",
   "nbconvert_exporter": "python",
   "pygments_lexer": "ipython2",
   "version": "2.7.13"
  }
 },
 "nbformat": 4,
 "nbformat_minor": 2
}
